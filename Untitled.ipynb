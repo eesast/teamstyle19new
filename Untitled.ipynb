{
 "cells": [
  {
   "cell_type": "code",
   "execution_count": 5,
   "metadata": {},
   "outputs": [],
   "source": [
    "import numpy as np"
   ]
  },
  {
   "cell_type": "code",
   "execution_count": 7,
   "metadata": {},
   "outputs": [
    {
     "name": "stdout",
     "output_type": "stream",
     "text": [
      "(31,) (31,)\n",
      "3.74025974025974\n"
     ]
    }
   ],
   "source": [
    "gpa=np.array([3.6,3.4,3.6,4,3.6,3.6,2.0,3.6,4,4,4,4,3.8,4,3.6,3.8,2.0,3.8,3.8,4,4,3.6,4,3.6,3.6,1,4,3.8,4,3.8,3.8])\n",
    "score=np.array([3,1,5,4,3,2,1,1,2,3,3,5,2,4,3,2,1,2,1,3,3,1,4,4,2,1,2,3,2,2,2])\n",
    "print(gpa.shape,score.shape)\n",
    "r=(gpa*score).sum()/score.sum()\n",
    "print(r)"
   ]
  },
  {
   "cell_type": "code",
   "execution_count": 8,
   "metadata": {},
   "outputs": [],
   "source": [
    "delta=3*0.3+0.3*(11)+0.3+0.3*4+0.1*7+0.3*7+0.1*7"
   ]
  },
  {
   "cell_type": "code",
   "execution_count": 9,
   "metadata": {},
   "outputs": [
    {
     "name": "stdout",
     "output_type": "stream",
     "text": [
      "9.2\n"
     ]
    }
   ],
   "source": [
    "print(delta)"
   ]
  },
  {
   "cell_type": "code",
   "execution_count": 10,
   "metadata": {},
   "outputs": [
    {
     "name": "stdout",
     "output_type": "stream",
     "text": [
      "0.11948051948051946\n"
     ]
    }
   ],
   "source": [
    "print(delta/score.sum())"
   ]
  },
  {
   "cell_type": "code",
   "execution_count": 11,
   "metadata": {},
   "outputs": [
    {
     "name": "stdout",
     "output_type": "stream",
     "text": [
      "0.10454545454545454\n"
     ]
    }
   ],
   "source": [
    "print(9.2/88)"
   ]
  },
  {
   "cell_type": "code",
   "execution_count": 13,
   "metadata": {},
   "outputs": [
    {
     "name": "stdout",
     "output_type": "stream",
     "text": [
      "0.11794871794871795\n"
     ]
    }
   ],
   "source": [
    "print(9.2/78)"
   ]
  },
  {
   "cell_type": "code",
   "execution_count": null,
   "metadata": {},
   "outputs": [],
   "source": []
  }
 ],
 "metadata": {
  "kernelspec": {
   "display_name": "Python 3",
   "language": "python",
   "name": "python3"
  },
  "language_info": {
   "codemirror_mode": {
    "name": "ipython",
    "version": 3
   },
   "file_extension": ".py",
   "mimetype": "text/x-python",
   "name": "python",
   "nbconvert_exporter": "python",
   "pygments_lexer": "ipython3",
   "version": "3.6.4"
  }
 },
 "nbformat": 4,
 "nbformat_minor": 2
}
